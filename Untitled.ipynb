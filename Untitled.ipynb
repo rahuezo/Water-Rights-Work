{
 "cells": [
  {
   "cell_type": "code",
   "execution_count": 1,
   "metadata": {
    "collapsed": true
   },
   "outputs": [],
   "source": [
    "from bs4 import BeautifulSoup as BS\n",
    "import requests as req"
   ]
  },
  {
   "cell_type": "code",
   "execution_count": 84,
   "metadata": {
    "collapsed": true
   },
   "outputs": [],
   "source": [
    "sc = req.get('https://rms.waterboards.ca.gov/LicensePrint_2015.aspx?FORM_ID=239951').content\n",
    "soup = BS(sc, 'html.parser')"
   ]
  },
  {
   "cell_type": "code",
   "execution_count": null,
   "metadata": {
    "collapsed": true
   },
   "outputs": [],
   "source": []
  },
  {
   "cell_type": "code",
   "execution_count": 85,
   "metadata": {},
   "outputs": [],
   "source": [
    "def get_revelant_colnums(cols): \n",
    "    results = []\n",
    "    for i, col in enumerate(cols): \n",
    "        if 'Amount directly diverted' in col.text: \n",
    "            results.append(i)\n",
    "        elif 'Amount used' in col.text: \n",
    "            results.append(i)\n",
    "    return results\n",
    "\n",
    "def get_total_diver_used(sc): \n",
    "    soup = BS(sc, 'html.parser')\n",
    "    table = filter(lambda x: 'Amount of Water Diverted and Used' in x.text, soup.find_all('table'))[0]\n",
    "        \n",
    "    header = filter(lambda x: 'Amount directly diverted' in x.text and 'Amount used' in x.text, table.select('tr'))[0]\n",
    "    \n",
    "    \n",
    "    cols = get_revelant_colnums(header.select('th'))\n",
    "    \n",
    "    for row in table.select('tr'): \n",
    "        tds = row.select('td')\n",
    "\n",
    "        if tds: \n",
    "            if 'Total' in tds[0].text: \n",
    "                total_row = map(lambda x: x.text, tds)\n",
    "                break \n",
    "                \n",
    "    return total_row[cols[0]], total_row[cols[1]]"
   ]
  },
  {
   "cell_type": "code",
   "execution_count": 86,
   "metadata": {},
   "outputs": [
    {
     "data": {
      "text/plain": [
       "(u'0', u'0')"
      ]
     },
     "execution_count": 86,
     "metadata": {},
     "output_type": "execute_result"
    }
   ],
   "source": [
    "\n",
    "get_total_diver_used(sc)\n",
    "# a,b = get_total_diver_used(sc)\n",
    "\n",
    "# print \"Total Diverted: \", a\n",
    "# print \"Total Used: \", b"
   ]
  },
  {
   "cell_type": "code",
   "execution_count": null,
   "metadata": {
    "collapsed": true
   },
   "outputs": [],
   "source": []
  }
 ],
 "metadata": {
  "kernelspec": {
   "display_name": "Python 2",
   "language": "python",
   "name": "python2"
  },
  "language_info": {
   "codemirror_mode": {
    "name": "ipython",
    "version": 2
   },
   "file_extension": ".py",
   "mimetype": "text/x-python",
   "name": "python",
   "nbconvert_exporter": "python",
   "pygments_lexer": "ipython2",
   "version": "2.7.13"
  }
 },
 "nbformat": 4,
 "nbformat_minor": 2
}
